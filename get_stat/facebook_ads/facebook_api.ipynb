{
 "cells": [
  {
   "cell_type": "code",
   "execution_count": 2,
   "metadata": {},
   "outputs": [],
   "source": [
    "from facebook_business.api import FacebookAdsApi\n",
    "from facebook_business.adobjects.adaccount import AdAccount\n",
    "from facebook_business.adobjects.ad import Ad\n",
    "from facebook_business.adobjects.campaign import Campaign\n",
    "from facebook_business.adobjects.ad import Ad\n",
    "\n",
    "import pandas as pd"
   ]
  },
  {
   "cell_type": "code",
   "execution_count": null,
   "metadata": {},
   "outputs": [],
   "source": []
  },
  {
   "cell_type": "code",
   "execution_count": 4,
   "metadata": {},
   "outputs": [],
   "source": [
    "import sys\n",
    "sys.path.append('../')\n",
    "\n",
    "from utils.utils import date_validation"
   ]
  },
  {
   "cell_type": "code",
   "execution_count": 14,
   "metadata": {},
   "outputs": [
    {
     "data": {
      "text/plain": [
       "{'account_id': 'string',\n",
       " 'ad_review_feedback': 'AdgroupReviewFeedback',\n",
       " 'adlabels': 'list<AdLabel>',\n",
       " 'adset': 'AdSet',\n",
       " 'adset_id': 'string',\n",
       " 'bid_amount': 'int',\n",
       " 'bid_info': 'map<string, unsigned int>',\n",
       " 'bid_type': 'BidType',\n",
       " 'campaign': 'Campaign',\n",
       " 'campaign_id': 'string',\n",
       " 'configured_status': 'ConfiguredStatus',\n",
       " 'conversion_domain': 'string',\n",
       " 'conversion_specs': 'list<ConversionActionQuery>',\n",
       " 'created_time': 'datetime',\n",
       " 'creative': 'AdCreative',\n",
       " 'demolink_hash': 'string',\n",
       " 'display_sequence': 'int',\n",
       " 'effective_status': 'EffectiveStatus',\n",
       " 'engagement_audience': 'bool',\n",
       " 'failed_delivery_checks': 'list<DeliveryCheck>',\n",
       " 'id': 'string',\n",
       " 'issues_info': 'list<AdgroupIssuesInfo>',\n",
       " 'last_updated_by_app_id': 'string',\n",
       " 'name': 'string',\n",
       " 'preview_shareable_link': 'string',\n",
       " 'priority': 'unsigned int',\n",
       " 'recommendations': 'list<AdRecommendation>',\n",
       " 'source_ad': 'Ad',\n",
       " 'source_ad_id': 'string',\n",
       " 'status': 'Status',\n",
       " 'targeting': 'Targeting',\n",
       " 'tracking_and_conversion_with_defaults': 'TrackingAndConversionWithDefaults',\n",
       " 'tracking_specs': 'list<ConversionActionQuery>',\n",
       " 'updated_time': 'datetime',\n",
       " 'adset_spec': 'AdSet',\n",
       " 'audience_id': 'string',\n",
       " 'date_format': 'string',\n",
       " 'draft_adgroup_id': 'string',\n",
       " 'execution_options': 'list<ExecutionOptions>',\n",
       " 'include_demolink_hashes': 'bool',\n",
       " 'filename': 'file'}"
      ]
     },
     "execution_count": 14,
     "metadata": {},
     "output_type": "execute_result"
    }
   ],
   "source": [
    "Ad._field_types"
   ]
  },
  {
   "cell_type": "code",
   "execution_count": null,
   "metadata": {},
   "outputs": [],
   "source": [
    "Campaign._field_types"
   ]
  },
  {
   "cell_type": "code",
   "execution_count": 125,
   "metadata": {},
   "outputs": [],
   "source": [
    "APP_ID = '1087573895408523'\n",
    "APP_SECRET = '6e01d697a935b056a982ef623fde14e2'\n",
    "ACCESS_TOKEN = 'EAAPdJIez64sBAHbj6nbhZALnueLwaWqZBAtCLZCZApDovwmbA2SjnYChZAMuyvMkfz2OHI8rMRNQcJJwv6b1yNuxkaqQXZCtV8T114uZCspIjGLFRZCzyov6fMoFQ5SJRkbmZC9Kx7r7QVGPA5vhu61SS18bZBJeZBZCKewunVRWpvKXc8v1qSu0KDY6XyBvURUi7kx4ReZA589BIMtW9LIiKZCvMHp8GEij9hKo0QVqrNL3iNYUz2s85VxDvG'\n",
    "ACCOUNT_ID = '388606526375999'"
   ]
  },
  {
   "cell_type": "code",
   "execution_count": 126,
   "metadata": {},
   "outputs": [
    {
     "data": {
      "text/plain": [
       "<facebook_business.api.FacebookAdsApi at 0xedd84f0>"
      ]
     },
     "execution_count": 126,
     "metadata": {},
     "output_type": "execute_result"
    }
   ],
   "source": [
    "FacebookAdsApi.init(APP_ID, APP_SECRET, ACCESS_TOKEN, api_version='v12.0')"
   ]
  },
  {
   "cell_type": "code",
   "execution_count": 127,
   "metadata": {},
   "outputs": [],
   "source": [
    "account = AdAccount('act_' + ACCOUNT_ID)\n"
   ]
  },
  {
   "cell_type": "code",
   "execution_count": 115,
   "metadata": {},
   "outputs": [],
   "source": [
    "FIELDS = ['adset_id', 'ad_name', 'campaign_id', 'created_time']"
   ]
  },
  {
   "cell_type": "code",
   "execution_count": 149,
   "metadata": {},
   "outputs": [],
   "source": [
    "def get_ad_report(ad_account: AdAccount) -> pd.DataFrame:\n",
    "    fields = ('id', 'adset_id', 'name', 'campaign_id',)\n",
    "\n",
    "    ads = ad_account.get_ads(fields=fields)\n",
    "    data = list(map(lambda ad: ad.export_all_data(), ads))\n",
    "\n",
    "    return pd.DataFrame(data).rename(columns={'id': 'ad_id', 'name': 'ad_name'})\n",
    "\n"
   ]
  },
  {
   "cell_type": "code",
   "execution_count": 150,
   "metadata": {},
   "outputs": [
    {
     "data": {
      "text/html": [
       "<div>\n",
       "<style scoped>\n",
       "    .dataframe tbody tr th:only-of-type {\n",
       "        vertical-align: middle;\n",
       "    }\n",
       "\n",
       "    .dataframe tbody tr th {\n",
       "        vertical-align: top;\n",
       "    }\n",
       "\n",
       "    .dataframe thead th {\n",
       "        text-align: right;\n",
       "    }\n",
       "</style>\n",
       "<table border=\"1\" class=\"dataframe\">\n",
       "  <thead>\n",
       "    <tr style=\"text-align: right;\">\n",
       "      <th></th>\n",
       "      <th>ad_id</th>\n",
       "      <th>adset_id</th>\n",
       "      <th>ad_name</th>\n",
       "      <th>campaign_id</th>\n",
       "    </tr>\n",
       "  </thead>\n",
       "  <tbody>\n",
       "    <tr>\n",
       "      <th>0</th>\n",
       "      <td>23849112002430765</td>\n",
       "      <td>23849112002390765</td>\n",
       "      <td>Продвижение веб-сайта: https://meow.com/</td>\n",
       "      <td>23849112002340765</td>\n",
       "    </tr>\n",
       "  </tbody>\n",
       "</table>\n",
       "</div>"
      ],
      "text/plain": [
       "               ad_id           adset_id  \\\n",
       "0  23849112002430765  23849112002390765   \n",
       "\n",
       "                                    ad_name        campaign_id  \n",
       "0  Продвижение веб-сайта: https://meow.com/  23849112002340765  "
      ]
     },
     "execution_count": 150,
     "metadata": {},
     "output_type": "execute_result"
    }
   ],
   "source": [
    "get_ad_report(account)"
   ]
  },
  {
   "cell_type": "code",
   "execution_count": 172,
   "metadata": {},
   "outputs": [],
   "source": [
    "def get_account_name(account_id: str) -> str:\n",
    "    return AdAccount('act_' + account_id).api_get(fields=('name',)).get('name')"
   ]
  },
  {
   "cell_type": "code",
   "execution_count": 11,
   "metadata": {},
   "outputs": [],
   "source": [
    "def get_campaign_report(ad_account: AdAccount) -> pd.DataFrame:\n",
    "    fields = ('id', 'name', 'buying_type', 'smart_promotion_type', 'status', 'account_id')\n",
    "\n",
    "    campaigns = ad_account.get_campaigns(fields=fields)\n",
    "    data = list(map(lambda campaign: campaign.export_all_data(), campaigns))\n",
    "    for row in data:\n",
    "        row['account_name'] = get_account_name(row['account_id'])\n",
    "\n",
    "    return pd.DataFrame(data).rename(columns={'id': 'campaign_id', 'name': 'campaign_name'})"
   ]
  },
  {
   "cell_type": "code",
   "execution_count": 177,
   "metadata": {},
   "outputs": [
    {
     "data": {
      "text/html": [
       "<div>\n",
       "<style scoped>\n",
       "    .dataframe tbody tr th:only-of-type {\n",
       "        vertical-align: middle;\n",
       "    }\n",
       "\n",
       "    .dataframe tbody tr th {\n",
       "        vertical-align: top;\n",
       "    }\n",
       "\n",
       "    .dataframe thead th {\n",
       "        text-align: right;\n",
       "    }\n",
       "</style>\n",
       "<table border=\"1\" class=\"dataframe\">\n",
       "  <thead>\n",
       "    <tr style=\"text-align: right;\">\n",
       "      <th></th>\n",
       "      <th>campaign_id</th>\n",
       "      <th>campaign_name</th>\n",
       "      <th>buying_type</th>\n",
       "      <th>smart_promotion_type</th>\n",
       "      <th>status</th>\n",
       "      <th>account_id</th>\n",
       "      <th>account_name</th>\n",
       "    </tr>\n",
       "  </thead>\n",
       "  <tbody>\n",
       "    <tr>\n",
       "      <th>0</th>\n",
       "      <td>23849112002340765</td>\n",
       "      <td>[19.12.2021] Продвижение https://meow.com/</td>\n",
       "      <td>AUCTION</td>\n",
       "      <td>GUIDED_CREATION</td>\n",
       "      <td>ACTIVE</td>\n",
       "      <td>388606526375999</td>\n",
       "      <td>Максим Холькин</td>\n",
       "    </tr>\n",
       "  </tbody>\n",
       "</table>\n",
       "</div>"
      ],
      "text/plain": [
       "         campaign_id                               campaign_name buying_type  \\\n",
       "0  23849112002340765  [19.12.2021] Продвижение https://meow.com/     AUCTION   \n",
       "\n",
       "  smart_promotion_type  status       account_id    account_name  \n",
       "0      GUIDED_CREATION  ACTIVE  388606526375999  Максим Холькин  "
      ]
     },
     "execution_count": 177,
     "metadata": {},
     "output_type": "execute_result"
    }
   ],
   "source": [
    "get_campaign_report(account)\n"
   ]
  },
  {
   "cell_type": "code",
   "execution_count": 115,
   "metadata": {},
   "outputs": [],
   "source": [
    "def get_stat_report(ad_account: AdAccount, date_from: str, date_to: str) -> pd.DataFrame:\n",
    "    fields = ('campaign_id', 'ad_id', 'adset_id', 'impressions', 'clicks', 'spend', 'account_currency',)\n",
    "    params = {'time_range': {'since': date_from, 'until': date_to}, 'time_increment': 1}\n",
    "\n",
    "    data = []\n",
    "    ads = ad_account.get_ads()\n",
    "    for ad in ads:\n",
    "        insights = ad.get_insights(fields=fields, params=params)\n",
    "        data += list(map(lambda insight: insight.export_all_data(), insights))\n",
    "    \n",
    "    return pd.DataFrame(data).drop(columns=['date_stop']).rename(columns={'date_start': 'dt', 'account_currency': 'currency'})"
   ]
  },
  {
   "cell_type": "code",
   "execution_count": 116,
   "metadata": {},
   "outputs": [
    {
     "data": {
      "text/html": [
       "<div>\n",
       "<style scoped>\n",
       "    .dataframe tbody tr th:only-of-type {\n",
       "        vertical-align: middle;\n",
       "    }\n",
       "\n",
       "    .dataframe tbody tr th {\n",
       "        vertical-align: top;\n",
       "    }\n",
       "\n",
       "    .dataframe thead th {\n",
       "        text-align: right;\n",
       "    }\n",
       "</style>\n",
       "<table border=\"1\" class=\"dataframe\">\n",
       "  <thead>\n",
       "    <tr style=\"text-align: right;\">\n",
       "      <th></th>\n",
       "      <th>campaign_id</th>\n",
       "      <th>ad_id</th>\n",
       "      <th>adset_id</th>\n",
       "      <th>impressions</th>\n",
       "      <th>clicks</th>\n",
       "      <th>spend</th>\n",
       "      <th>currency</th>\n",
       "      <th>dt</th>\n",
       "    </tr>\n",
       "  </thead>\n",
       "  <tbody>\n",
       "    <tr>\n",
       "      <th>0</th>\n",
       "      <td>23849112002340765</td>\n",
       "      <td>23849112002430765</td>\n",
       "      <td>23849112002390765</td>\n",
       "      <td>205</td>\n",
       "      <td>3</td>\n",
       "      <td>53.77</td>\n",
       "      <td>RUB</td>\n",
       "      <td>2021-12-19</td>\n",
       "    </tr>\n",
       "    <tr>\n",
       "      <th>1</th>\n",
       "      <td>23849112002340765</td>\n",
       "      <td>23849112002430765</td>\n",
       "      <td>23849112002390765</td>\n",
       "      <td>306</td>\n",
       "      <td>4</td>\n",
       "      <td>97.53</td>\n",
       "      <td>RUB</td>\n",
       "      <td>2021-12-20</td>\n",
       "    </tr>\n",
       "    <tr>\n",
       "      <th>2</th>\n",
       "      <td>23849112002340765</td>\n",
       "      <td>23849112002430765</td>\n",
       "      <td>23849112002390765</td>\n",
       "      <td>284</td>\n",
       "      <td>5</td>\n",
       "      <td>98.87</td>\n",
       "      <td>RUB</td>\n",
       "      <td>2021-12-21</td>\n",
       "    </tr>\n",
       "    <tr>\n",
       "      <th>3</th>\n",
       "      <td>23849112002340765</td>\n",
       "      <td>23849112002430765</td>\n",
       "      <td>23849112002390765</td>\n",
       "      <td>246</td>\n",
       "      <td>5</td>\n",
       "      <td>99.6</td>\n",
       "      <td>RUB</td>\n",
       "      <td>2021-12-22</td>\n",
       "    </tr>\n",
       "    <tr>\n",
       "      <th>4</th>\n",
       "      <td>23849112002340765</td>\n",
       "      <td>23849112002430765</td>\n",
       "      <td>23849112002390765</td>\n",
       "      <td>279</td>\n",
       "      <td>3</td>\n",
       "      <td>98.34</td>\n",
       "      <td>RUB</td>\n",
       "      <td>2021-12-23</td>\n",
       "    </tr>\n",
       "    <tr>\n",
       "      <th>5</th>\n",
       "      <td>23849112002340765</td>\n",
       "      <td>23849112002430765</td>\n",
       "      <td>23849112002390765</td>\n",
       "      <td>271</td>\n",
       "      <td>6</td>\n",
       "      <td>100.74</td>\n",
       "      <td>RUB</td>\n",
       "      <td>2021-12-24</td>\n",
       "    </tr>\n",
       "    <tr>\n",
       "      <th>6</th>\n",
       "      <td>23849112002340765</td>\n",
       "      <td>23849112002430765</td>\n",
       "      <td>23849112002390765</td>\n",
       "      <td>299</td>\n",
       "      <td>10</td>\n",
       "      <td>97.25</td>\n",
       "      <td>RUB</td>\n",
       "      <td>2021-12-25</td>\n",
       "    </tr>\n",
       "    <tr>\n",
       "      <th>7</th>\n",
       "      <td>23849112002340765</td>\n",
       "      <td>23849112002430765</td>\n",
       "      <td>23849112002390765</td>\n",
       "      <td>381</td>\n",
       "      <td>2</td>\n",
       "      <td>107.78</td>\n",
       "      <td>RUB</td>\n",
       "      <td>2021-12-26</td>\n",
       "    </tr>\n",
       "    <tr>\n",
       "      <th>8</th>\n",
       "      <td>23849112002340765</td>\n",
       "      <td>23849112002430765</td>\n",
       "      <td>23849112002390765</td>\n",
       "      <td>421</td>\n",
       "      <td>3</td>\n",
       "      <td>100.37</td>\n",
       "      <td>RUB</td>\n",
       "      <td>2021-12-27</td>\n",
       "    </tr>\n",
       "    <tr>\n",
       "      <th>9</th>\n",
       "      <td>23849112002340765</td>\n",
       "      <td>23849112002430765</td>\n",
       "      <td>23849112002390765</td>\n",
       "      <td>392</td>\n",
       "      <td>2</td>\n",
       "      <td>110.2</td>\n",
       "      <td>RUB</td>\n",
       "      <td>2021-12-28</td>\n",
       "    </tr>\n",
       "    <tr>\n",
       "      <th>10</th>\n",
       "      <td>23849112002340765</td>\n",
       "      <td>23849112002430765</td>\n",
       "      <td>23849112002390765</td>\n",
       "      <td>101</td>\n",
       "      <td>0</td>\n",
       "      <td>35.54</td>\n",
       "      <td>RUB</td>\n",
       "      <td>2021-12-29</td>\n",
       "    </tr>\n",
       "  </tbody>\n",
       "</table>\n",
       "</div>"
      ],
      "text/plain": [
       "          campaign_id              ad_id           adset_id impressions  \\\n",
       "0   23849112002340765  23849112002430765  23849112002390765         205   \n",
       "1   23849112002340765  23849112002430765  23849112002390765         306   \n",
       "2   23849112002340765  23849112002430765  23849112002390765         284   \n",
       "3   23849112002340765  23849112002430765  23849112002390765         246   \n",
       "4   23849112002340765  23849112002430765  23849112002390765         279   \n",
       "5   23849112002340765  23849112002430765  23849112002390765         271   \n",
       "6   23849112002340765  23849112002430765  23849112002390765         299   \n",
       "7   23849112002340765  23849112002430765  23849112002390765         381   \n",
       "8   23849112002340765  23849112002430765  23849112002390765         421   \n",
       "9   23849112002340765  23849112002430765  23849112002390765         392   \n",
       "10  23849112002340765  23849112002430765  23849112002390765         101   \n",
       "\n",
       "   clicks   spend currency          dt  \n",
       "0       3   53.77      RUB  2021-12-19  \n",
       "1       4   97.53      RUB  2021-12-20  \n",
       "2       5   98.87      RUB  2021-12-21  \n",
       "3       5    99.6      RUB  2021-12-22  \n",
       "4       3   98.34      RUB  2021-12-23  \n",
       "5       6  100.74      RUB  2021-12-24  \n",
       "6      10   97.25      RUB  2021-12-25  \n",
       "7       2  107.78      RUB  2021-12-26  \n",
       "8       3  100.37      RUB  2021-12-27  \n",
       "9       2   110.2      RUB  2021-12-28  \n",
       "10      0   35.54      RUB  2021-12-29  "
      ]
     },
     "execution_count": 116,
     "metadata": {},
     "output_type": "execute_result"
    }
   ],
   "source": [
    "get_stat_report(account, '2021-12-18', '2022-01-10')"
   ]
  },
  {
   "cell_type": "code",
   "execution_count": 129,
   "metadata": {},
   "outputs": [
    {
     "ename": "FacebookRequestError",
     "evalue": "\n\n  Message: Call was not successful\n  Method:  GET\n  Path:    https://graph.facebook.com/v12.0/act_388606526375999/targetingsentencelines\n  Params:  {'summary': 'true'}\n\n  Status:  400\n  Response:\n    {\n      \"error\": {\n        \"message\": \"(#100) For field 'targetingsentencelines': The parameter targeting_spec is required\",\n        \"type\": \"OAuthException\",\n        \"code\": 100,\n        \"fbtrace_id\": \"AGbi6HU8xbwirlZdKgFS4zD\"\n      }\n    }\n",
     "output_type": "error",
     "traceback": [
      "\u001b[1;31m---------------------------------------------------------------------------\u001b[0m",
      "\u001b[1;31mFacebookRequestError\u001b[0m                      Traceback (most recent call last)",
      "Input \u001b[1;32mIn [129]\u001b[0m, in \u001b[0;36m<module>\u001b[1;34m\u001b[0m\n\u001b[1;32m----> 1\u001b[0m \u001b[43maccount\u001b[49m\u001b[38;5;241;43m.\u001b[39;49m\u001b[43mget_targeting_sentence_lines\u001b[49m\u001b[43m(\u001b[49m\u001b[43m)\u001b[49m\n",
      "File \u001b[1;32md:\\Python\\ads_statistics_scripts\\venv\\lib\\site-packages\\facebook_business\\adobjects\\adaccount.py:3673\u001b[0m, in \u001b[0;36mAdAccount.get_targeting_sentence_lines\u001b[1;34m(self, fields, params, batch, success, failure, pending)\u001b[0m\n\u001b[0;32m   3671\u001b[0m \u001b[38;5;28;01melse\u001b[39;00m:\n\u001b[0;32m   3672\u001b[0m     \u001b[38;5;28mself\u001b[39m\u001b[38;5;241m.\u001b[39massure_call()\n\u001b[1;32m-> 3673\u001b[0m     \u001b[38;5;28;01mreturn\u001b[39;00m \u001b[43mrequest\u001b[49m\u001b[38;5;241;43m.\u001b[39;49m\u001b[43mexecute\u001b[49m\u001b[43m(\u001b[49m\u001b[43m)\u001b[49m\n",
      "File \u001b[1;32md:\\Python\\ads_statistics_scripts\\venv\\lib\\site-packages\\facebook_business\\api.py:677\u001b[0m, in \u001b[0;36mFacebookRequest.execute\u001b[1;34m(self)\u001b[0m\n\u001b[0;32m    667\u001b[0m \u001b[38;5;28;01mif\u001b[39;00m \u001b[38;5;28mself\u001b[39m\u001b[38;5;241m.\u001b[39m_api_type \u001b[38;5;241m==\u001b[39m \u001b[38;5;124m\"\u001b[39m\u001b[38;5;124mEDGE\u001b[39m\u001b[38;5;124m\"\u001b[39m \u001b[38;5;129;01mand\u001b[39;00m \u001b[38;5;28mself\u001b[39m\u001b[38;5;241m.\u001b[39m_method \u001b[38;5;241m==\u001b[39m \u001b[38;5;124m\"\u001b[39m\u001b[38;5;124mGET\u001b[39m\u001b[38;5;124m\"\u001b[39m:\n\u001b[0;32m    668\u001b[0m     cursor \u001b[38;5;241m=\u001b[39m Cursor(\n\u001b[0;32m    669\u001b[0m         target_objects_class\u001b[38;5;241m=\u001b[39m\u001b[38;5;28mself\u001b[39m\u001b[38;5;241m.\u001b[39m_target_class,\n\u001b[0;32m    670\u001b[0m         params\u001b[38;5;241m=\u001b[39mparams,\n\u001b[1;32m   (...)\u001b[0m\n\u001b[0;32m    675\u001b[0m         endpoint\u001b[38;5;241m=\u001b[39m\u001b[38;5;28mself\u001b[39m\u001b[38;5;241m.\u001b[39m_endpoint,\n\u001b[0;32m    676\u001b[0m     )\n\u001b[1;32m--> 677\u001b[0m     \u001b[43mcursor\u001b[49m\u001b[38;5;241;43m.\u001b[39;49m\u001b[43mload_next_page\u001b[49m\u001b[43m(\u001b[49m\u001b[43m)\u001b[49m\n\u001b[0;32m    678\u001b[0m     \u001b[38;5;28;01mreturn\u001b[39;00m cursor\n\u001b[0;32m    679\u001b[0m \u001b[38;5;28;01mif\u001b[39;00m \u001b[38;5;28mself\u001b[39m\u001b[38;5;241m.\u001b[39m_fields:\n",
      "File \u001b[1;32md:\\Python\\ads_statistics_scripts\\venv\\lib\\site-packages\\facebook_business\\api.py:841\u001b[0m, in \u001b[0;36mCursor.load_next_page\u001b[1;34m(self)\u001b[0m\n\u001b[0;32m    834\u001b[0m \u001b[38;5;28;01mif\u001b[39;00m (\n\u001b[0;32m    835\u001b[0m     \u001b[38;5;28mself\u001b[39m\u001b[38;5;241m.\u001b[39m_include_summary \u001b[38;5;129;01mand\u001b[39;00m\n\u001b[0;32m    836\u001b[0m     \u001b[38;5;124m'\u001b[39m\u001b[38;5;124mdefault_summary\u001b[39m\u001b[38;5;124m'\u001b[39m \u001b[38;5;129;01mnot\u001b[39;00m \u001b[38;5;129;01min\u001b[39;00m \u001b[38;5;28mself\u001b[39m\u001b[38;5;241m.\u001b[39mparams \u001b[38;5;129;01mand\u001b[39;00m\n\u001b[0;32m    837\u001b[0m     \u001b[38;5;124m'\u001b[39m\u001b[38;5;124msummary\u001b[39m\u001b[38;5;124m'\u001b[39m \u001b[38;5;129;01mnot\u001b[39;00m \u001b[38;5;129;01min\u001b[39;00m \u001b[38;5;28mself\u001b[39m\u001b[38;5;241m.\u001b[39mparams\n\u001b[0;32m    838\u001b[0m ):\n\u001b[0;32m    839\u001b[0m     \u001b[38;5;28mself\u001b[39m\u001b[38;5;241m.\u001b[39mparams[\u001b[38;5;124m'\u001b[39m\u001b[38;5;124msummary\u001b[39m\u001b[38;5;124m'\u001b[39m] \u001b[38;5;241m=\u001b[39m \u001b[38;5;28;01mTrue\u001b[39;00m\n\u001b[1;32m--> 841\u001b[0m response_obj \u001b[38;5;241m=\u001b[39m \u001b[38;5;28;43mself\u001b[39;49m\u001b[38;5;241;43m.\u001b[39;49m\u001b[43m_api\u001b[49m\u001b[38;5;241;43m.\u001b[39;49m\u001b[43mcall\u001b[49m\u001b[43m(\u001b[49m\n\u001b[0;32m    842\u001b[0m \u001b[43m    \u001b[49m\u001b[38;5;124;43m'\u001b[39;49m\u001b[38;5;124;43mGET\u001b[39;49m\u001b[38;5;124;43m'\u001b[39;49m\u001b[43m,\u001b[49m\n\u001b[0;32m    843\u001b[0m \u001b[43m    \u001b[49m\u001b[38;5;28;43mself\u001b[39;49m\u001b[38;5;241;43m.\u001b[39;49m\u001b[43m_path\u001b[49m\u001b[43m,\u001b[49m\n\u001b[0;32m    844\u001b[0m \u001b[43m    \u001b[49m\u001b[43mparams\u001b[49m\u001b[38;5;241;43m=\u001b[39;49m\u001b[38;5;28;43mself\u001b[39;49m\u001b[38;5;241;43m.\u001b[39;49m\u001b[43mparams\u001b[49m\u001b[43m,\u001b[49m\n\u001b[0;32m    845\u001b[0m \u001b[43m\u001b[49m\u001b[43m)\u001b[49m\n\u001b[0;32m    846\u001b[0m response \u001b[38;5;241m=\u001b[39m response_obj\u001b[38;5;241m.\u001b[39mjson()\n\u001b[0;32m    847\u001b[0m \u001b[38;5;28mself\u001b[39m\u001b[38;5;241m.\u001b[39m_headers \u001b[38;5;241m=\u001b[39m response_obj\u001b[38;5;241m.\u001b[39mheaders()\n",
      "File \u001b[1;32md:\\Python\\ads_statistics_scripts\\venv\\lib\\site-packages\\facebook_business\\api.py:350\u001b[0m, in \u001b[0;36mFacebookAdsApi.call\u001b[1;34m(self, method, path, params, headers, files, url_override, api_version)\u001b[0m\n\u001b[0;32m    336\u001b[0m fb_response \u001b[38;5;241m=\u001b[39m FacebookResponse(\n\u001b[0;32m    337\u001b[0m     body\u001b[38;5;241m=\u001b[39mresponse\u001b[38;5;241m.\u001b[39mtext,\n\u001b[0;32m    338\u001b[0m     headers\u001b[38;5;241m=\u001b[39mresponse\u001b[38;5;241m.\u001b[39mheaders,\n\u001b[1;32m   (...)\u001b[0m\n\u001b[0;32m    346\u001b[0m     },\n\u001b[0;32m    347\u001b[0m )\n\u001b[0;32m    349\u001b[0m \u001b[38;5;28;01mif\u001b[39;00m fb_response\u001b[38;5;241m.\u001b[39mis_failure():\n\u001b[1;32m--> 350\u001b[0m     \u001b[38;5;28;01mraise\u001b[39;00m fb_response\u001b[38;5;241m.\u001b[39merror()\n\u001b[0;32m    352\u001b[0m \u001b[38;5;28mself\u001b[39m\u001b[38;5;241m.\u001b[39m_num_requests_succeeded \u001b[38;5;241m+\u001b[39m\u001b[38;5;241m=\u001b[39m \u001b[38;5;241m1\u001b[39m\n\u001b[0;32m    353\u001b[0m \u001b[38;5;28;01mreturn\u001b[39;00m fb_response\n",
      "\u001b[1;31mFacebookRequestError\u001b[0m: \n\n  Message: Call was not successful\n  Method:  GET\n  Path:    https://graph.facebook.com/v12.0/act_388606526375999/targetingsentencelines\n  Params:  {'summary': 'true'}\n\n  Status:  400\n  Response:\n    {\n      \"error\": {\n        \"message\": \"(#100) For field 'targetingsentencelines': The parameter targeting_spec is required\",\n        \"type\": \"OAuthException\",\n        \"code\": 100,\n        \"fbtrace_id\": \"AGbi6HU8xbwirlZdKgFS4zD\"\n      }\n    }\n"
     ]
    }
   ],
   "source": [
    "account.get_targeting_sentence_lines()"
   ]
  },
  {
   "cell_type": "code",
   "execution_count": null,
   "metadata": {},
   "outputs": [],
   "source": []
  }
 ],
 "metadata": {
  "interpreter": {
   "hash": "c9f8e65d29cdce3b2cb10c0f0c68c22ad7b4c3bcb09366405283c28b43624950"
  },
  "kernelspec": {
   "display_name": "Python 3.8.3 32-bit ('venv': venv)",
   "language": "python",
   "name": "python3"
  },
  "language_info": {
   "codemirror_mode": {
    "name": "ipython",
    "version": 3
   },
   "file_extension": ".py",
   "mimetype": "text/x-python",
   "name": "python",
   "nbconvert_exporter": "python",
   "pygments_lexer": "ipython3",
   "version": "3.8.3"
  },
  "orig_nbformat": 4
 },
 "nbformat": 4,
 "nbformat_minor": 2
}
